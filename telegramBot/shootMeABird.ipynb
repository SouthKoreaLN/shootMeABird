{
 "cells": [
  {
   "cell_type": "code",
   "execution_count": 1,
   "metadata": {},
   "outputs": [],
   "source": [
    "from telegram.ext import Updater, InlineQueryHandler, CommandHandler, CallbackQueryHandler, MessageHandler\n",
    "from telegram import InlineKeyboardButton, InlineKeyboardMarkup\n",
    "from telegram import KeyboardButton, ReplyKeyboardMarkup\n",
    "import requests\n",
    "import json\n",
    "import numpy as np\n",
    "import io\n",
    "import qrcode\n",
    "import os"
   ]
  },
  {
   "cell_type": "code",
   "execution_count": 2,
   "metadata": {},
   "outputs": [],
   "source": [
    "apikey = '3ae2daad-ad9b-45e8-92a9-706338586d0a'\n",
    "botToken = '836127070:AAH9qhHE8ClBzlJosL4jOtW1KZ4MslVaLHA'"
   ]
  },
  {
   "cell_type": "code",
   "execution_count": 3,
   "metadata": {},
   "outputs": [],
   "source": [
    "################# Payment functions ##############\n",
    "\n",
    "def generateCharge(amount,currency=\"USD\"):\n",
    "    r = requests.post(url = \"https://dev-api.opennode.co/v1/charges\",\n",
    "                  headers = {\n",
    "                        'Content-Type': 'application/json',\n",
    "                        'Authorization': apikey\n",
    "                            },\n",
    "                  data = json.dumps({\n",
    "                        \"amount\": amount,\n",
    "                        \"currency\": currency,\n",
    "                        \"callback_url\": \"https://site.com/?handler=opennode\",\n",
    "                        \"success_url\": \"https://site.com/order/abc123\"\n",
    "                            })\n",
    "                 )\n",
    "    return r.json()\n",
    "\n",
    "def paidCharges():\n",
    "    r = requests.get(url = 'https://dev-api.opennode.co/v1/charges', \n",
    "                    headers={\n",
    "                  'Content-Type': 'application/json',\n",
    "                  'Authorization': apikey\n",
    "                        }\n",
    "                   )\n",
    "    return r.json()\n",
    "\n",
    "def chargeInfo(idx):\n",
    "    r = requests.get(url = 'https://dev-api.opennode.co/v1/charge/'+idx, \n",
    "                   headers={\n",
    "                          'Content-Type': 'application/json',\n",
    "                          'Authorization': apikey\n",
    "                        })\n",
    "    return r.json()\n",
    "\n",
    "def test(update,context):\n",
    "    print(\"test\")\n",
    "    update.message.reply_text('test')\n",
    "    \n",
    "    \n",
    "################# GAN functions ##############\n",
    "def calculate_cost():\n",
    "    return np.random.rand()\n",
    "\n",
    "import traceback\n",
    "def get_waifu(update, context, args):\n",
    "    print(\"get_waifu\", args)\n",
    "    \n",
    "    payment_id = context.user_data['payment_id']\n",
    "    if context.user_data['sent'] == True:\n",
    "        update.message.reply_text(\"you already got waifu!\")\n",
    "        return\n",
    "    \n",
    "    info = chargeInfo(payment_id)\n",
    "    if info['data']['status'] == 'paid':\n",
    "        try:\n",
    "            r = requests.get(url=\"http://localhost:5000/\")\n",
    "            i = io.BytesIO(r.content)\n",
    "            update.message.reply_photo(i)\n",
    "        except:\n",
    "            print(\"failed\")\n",
    "            update.message.reply_text(\"waifu retrieval failed :(\")\n",
    "            # traceback.print_exc()\n",
    "        # print(r.status)\n",
    "        context.user_data['sent'] = True\n",
    "    else:\n",
    "        update.message.reply_text(\"you didn't pay!\")\n",
    "\n",
    "iii = 0\n",
    "def make_qrcode(payreq):\n",
    "    global iii\n",
    "    i = qrcode.make(payreq)\n",
    "    filename = f\"{iii}.png\"\n",
    "    i.save(filename)\n",
    "    iii += 1\n",
    "    return filename\n",
    "\n",
    "def request_waifu(update,context):\n",
    "    print(\"request_waifu\")\n",
    "\n",
    "    cost = calculate_cost()\n",
    "    update.message.reply_text(\"it will cost you %.2f\"%cost+' USD')\n",
    "\n",
    "    charge = generateCharge(cost)\n",
    "    payreq = charge['data']['lightning_invoice']['payreq']\n",
    "    \n",
    "    update.message.reply_text(\"your payreq here\")\n",
    "    update.message.reply_text(payreq)\n",
    "    qrf = make_qrcode(payreq)\n",
    "    # update.message.reply_photo(open(qrf, 'rb'))\n",
    "    \n",
    "    payment_id = charge['data']['id']\n",
    "    \n",
    "    context.user_data['payment_id'] = payment_id\n",
    "    context.user_data['sent'] = False"
   ]
  },
  {
   "cell_type": "code",
   "execution_count": 4,
   "metadata": {},
   "outputs": [],
   "source": [
    "def start(update, context):\n",
    "    keyboard = [[KeyboardButton('/test'),#\"Test\", callback_data='/test'),\n",
    "                 KeyboardButton('/request_waifu'),#\"Request\", callback_data='/request_waifu')],\n",
    "                 KeyboardButton('/get_waifu')]]  #\"Get\", callback_data='/get_waifu')]]\n",
    "    reply_markup = ReplyKeyboardMarkup(keyboard)\n",
    "    update.message.reply_text('Please choose:', reply_markup=reply_markup)\n",
    "\n",
    "#def button(update, context):\n",
    "#    query = update.callback_query\n",
    "#    query.edit_message_text(text=query.data)\n",
    "    # if query.data == '/request_waifu': request_waifu(update, context)\n",
    "    # if query.data == '/get_waifu': get_waifu(update, context)\n",
    "    # if query.data == '/test': test(update, context)\n",
    "\n",
    "def help(update, context):\n",
    "    update.message.reply_text(\"Use /start to test this bot.\")\n",
    "\n",
    "def error(update, context):\n",
    "    \"\"\"Log Errors caused by Updates.\"\"\"\n",
    "    logger.warning('Update \"%s\" caused error \"%s\"', update, context.error)"
   ]
  },
  {
   "cell_type": "code",
   "execution_count": 5,
   "metadata": {},
   "outputs": [],
   "source": [
    "updater = Updater(botToken,use_context=True)\n",
    "dp = updater.dispatcher\n",
    "\n",
    "dp.add_handler(CommandHandler('start', start))\n",
    "#dp.add_handler(CallbackQueryHandler(button))\n",
    "dp.add_handler(CommandHandler('help', help))\n",
    "dp.add_error_handler(error)\n",
    "dp.add_handler(CommandHandler('test',test))\n",
    "dp.add_handler(CommandHandler('request_waifu',request_waifu))\n",
    "dp.add_handler(CommandHandler('get_waifu',get_waifu, pass_args=True))"
   ]
  },
  {
   "cell_type": "code",
   "execution_count": null,
   "metadata": {},
   "outputs": [
    {
     "name": "stdout",
     "output_type": "stream",
     "text": [
      "test\n",
      "request_waifu\n",
      "test\n",
      "request_waifu\n"
     ]
    }
   ],
   "source": [
    "updater.start_polling()\n",
    "updater.idle()"
   ]
  },
  {
   "cell_type": "code",
   "execution_count": null,
   "metadata": {},
   "outputs": [],
   "source": []
  }
 ],
 "metadata": {
  "kernelspec": {
   "display_name": "Python 3",
   "language": "python",
   "name": "python3"
  },
  "language_info": {
   "codemirror_mode": {
    "name": "ipython",
    "version": 3
   },
   "file_extension": ".py",
   "mimetype": "text/x-python",
   "name": "python",
   "nbconvert_exporter": "python",
   "pygments_lexer": "ipython3",
   "version": "3.7.3"
  }
 },
 "nbformat": 4,
 "nbformat_minor": 2
}
