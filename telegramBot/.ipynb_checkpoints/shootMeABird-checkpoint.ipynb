{
 "cells": [
  {
   "cell_type": "code",
   "execution_count": 1,
   "metadata": {},
   "outputs": [],
   "source": [
    "from telegram.ext import Updater, InlineQueryHandler, CommandHandler\n",
    "import requests\n",
    "import re\n",
    "import json\n",
    "import numpy as np"
   ]
  },
  {
   "cell_type": "code",
   "execution_count": 2,
   "metadata": {},
   "outputs": [],
   "source": [
    "apikey = '3ae2daad-ad9b-45e8-92a9-706338586d0a'\n",
    "botToken = '836127070:AAH9qhHE8ClBzlJosL4jOtW1KZ4MslVaLHA'\n",
    "idx = 'foobar'"
   ]
  },
  {
   "cell_type": "code",
   "execution_count": 3,
   "metadata": {},
   "outputs": [],
   "source": [
    "################# tutorial functions ##############\n",
    "def get_url():\n",
    "    contents = requests.get('https://random.dog/woof.json').json()\n",
    "    url = contents['url']\n",
    "    return url\n",
    "\n",
    "def waifu_ready(bot, update):\n",
    "    pass\n",
    "\n",
    "def bop(bot, update):\n",
    "    url = get_url()\n",
    "    chat_id = update.message.chat_id\n",
    "    bot.send_photo(chat_id=chat_id, photo=url)\n",
    "    \n",
    "def main():\n",
    "    updater = Updater(botToken)\n",
    "    dp = updater.dispatcher\n",
    "    dp.add_handler(CommandHandler('bop',bop))\n",
    "    dp.add_handler(CommandHandler('waifu',waifu))\n",
    "    dp.add_handler(CommandHandler('waifu_ready',waifu_ready)) \n",
    "    updater.start_polling()\n",
    "    updater.idle()\n",
    "    \n",
    "################# GAN functions ##############\n",
    "def calculate_cost():\n",
    "    return np.random.rand()\n",
    "\n",
    "def waifu_ready():\n",
    "    global idx\n",
    "    print(idx)\n",
    "    info = chargeInfo(idx)\n",
    "    if info['data']['status'] == 'paid':\n",
    "        pass\n",
    "    else:\n",
    "        bot.send_message(chat_id=chat_id,text = \"you didn't pay!\")\n",
    "\n",
    "def return_image():\n",
    "    pass\n",
    "\n",
    "def check_if_finished():\n",
    "    pass\n",
    "\n",
    "def waifu(bot, update):\n",
    "    global idx\n",
    "    cost = calculate_cost()\n",
    "    charge = generateCharge(cost)\n",
    "    invoice = charge['data']['lightning_invoice']['payreq']\n",
    "    idx = charge['data']['id']\n",
    "    chat_id = update.message.chat_id\n",
    "    bot.send_message(chat_id=chat_id, text=invoice)\n",
    "\n",
    "################# Payment functions ##############\n",
    "\n",
    "def generateCharge(amount,currency=\"USD\"):\n",
    "    r = requests.post(url = \"https://dev-api.opennode.co/v1/charges\",\n",
    "                  headers = {\n",
    "                        'Content-Type': 'application/json',\n",
    "                        'Authorization': apikey\n",
    "                            },\n",
    "                  data = json.dumps({\n",
    "                        \"amount\": amount,\n",
    "                        \"currency\": currency,\n",
    "                        \"callback_url\": \"https://site.com/?handler=opennode\",\n",
    "                        \"success_url\": \"https://site.com/order/abc123\"\n",
    "                            })\n",
    "                 )\n",
    "    return r.json()\n",
    "\n",
    "def paidCharges():\n",
    "    r = requests.get(url = 'https://dev-api.opennode.co/v1/charges', \n",
    "                    headers={\n",
    "                  'Content-Type': 'application/json',\n",
    "                  'Authorization': apikey\n",
    "                        }\n",
    "                   )\n",
    "    return r.json()\n",
    "\n",
    "def chargeInfo(idx):\n",
    "    r = requests.get(url = 'https://dev-api.opennode.co/v1/charge/'+idx, \n",
    "                   headers={\n",
    "                          'Content-Type': 'application/json',\n",
    "                          'Authorization': apikey\n",
    "                        })\n",
    "    return r.json()\n"
   ]
  },
  {
   "cell_type": "code",
   "execution_count": null,
   "metadata": {},
   "outputs": [],
   "source": [
    "main()"
   ]
  },
  {
   "cell_type": "code",
   "execution_count": null,
   "metadata": {},
   "outputs": [],
   "source": [
    "if __name__ == '__main__':\n",
    "    main()"
   ]
  }
 ],
 "metadata": {
  "kernelspec": {
   "display_name": "lightingNetworkHackathon",
   "language": "python",
   "name": "lightingnetworkhackathon"
  },
  "language_info": {
   "codemirror_mode": {
    "name": "ipython",
    "version": 3
   },
   "file_extension": ".py",
   "mimetype": "text/x-python",
   "name": "python",
   "nbconvert_exporter": "python",
   "pygments_lexer": "ipython3",
   "version": "3.6.8"
  }
 },
 "nbformat": 4,
 "nbformat_minor": 2
}
