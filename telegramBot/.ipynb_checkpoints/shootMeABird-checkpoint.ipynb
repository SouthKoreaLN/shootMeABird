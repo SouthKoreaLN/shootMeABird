{
 "cells": [
  {
   "cell_type": "code",
   "execution_count": 1,
   "metadata": {},
   "outputs": [],
   "source": [
    "from telegram.ext import Updater, InlineQueryHandler, CommandHandler\n",
    "import requests\n",
    "import json\n",
    "import numpy as np"
   ]
  },
  {
   "cell_type": "code",
   "execution_count": 2,
   "metadata": {},
   "outputs": [],
   "source": [
    "apikey = '3ae2daad-ad9b-45e8-92a9-706338586d0a'\n",
    "botToken = '836127070:AAH9qhHE8ClBzlJosL4jOtW1KZ4MslVaLHA'"
   ]
  },
  {
   "cell_type": "code",
   "execution_count": 3,
   "metadata": {},
   "outputs": [],
   "source": [
    "################# Payment functions ##############\n",
    "\n",
    "def generateCharge(amount,currency=\"USD\"):\n",
    "    r = requests.post(url = \"https://dev-api.opennode.co/v1/charges\",\n",
    "                  headers = {\n",
    "                        'Content-Type': 'application/json',\n",
    "                        'Authorization': apikey\n",
    "                            },\n",
    "                  data = json.dumps({\n",
    "                        \"amount\": amount,\n",
    "                        \"currency\": currency,\n",
    "                        \"callback_url\": \"https://site.com/?handler=opennode\",\n",
    "                        \"success_url\": \"https://site.com/order/abc123\"\n",
    "                            })\n",
    "                 )\n",
    "    return r.json()\n",
    "\n",
    "def paidCharges():\n",
    "    r = requests.get(url = 'https://dev-api.opennode.co/v1/charges', \n",
    "                    headers={\n",
    "                  'Content-Type': 'application/json',\n",
    "                  'Authorization': apikey\n",
    "                        }\n",
    "                   )\n",
    "    return r.json()\n",
    "\n",
    "def chargeInfo(idx):\n",
    "    r = requests.get(url = 'https://dev-api.opennode.co/v1/charge/'+idx, \n",
    "                   headers={\n",
    "                          'Content-Type': 'application/json',\n",
    "                          'Authorization': apikey\n",
    "                        })\n",
    "    return r.json()\n",
    "\n",
    "def test(update,context):\n",
    "    print(\"test\")\n",
    "    update.message.reply_text('test')\n",
    "    \n",
    "    \n",
    "################# GAN functions ##############\n",
    "def calculate_cost():\n",
    "    return np.random.rand()\n",
    "\n",
    "def get_waifu(update,context):\n",
    "    print(\"get_waifu\")\n",
    "    \n",
    "    payment_id = context.user_data['payment_id']\n",
    "\n",
    "    info = chargeInfo(payment_id)\n",
    "    if info['data']['status'] == 'paid':\n",
    "        pass\n",
    "    else:\n",
    "        update.message.reply_text(\"you didn't pay!\")\n",
    "\n",
    "def request_waifu(update,context):\n",
    "    print(\"request_waifu\")\n",
    "\n",
    "    cost = calculate_cost()\n",
    "    update.message.reply_text(\"it will cost you %.2f\"%cost+' USD')\n",
    "\n",
    "    charge = generateCharge(cost)\n",
    "    payreq = charge['data']['lightning_invoice']['payreq']\n",
    "    \n",
    "    update.message.reply_text(\"your payreq here\")\n",
    "    update.message.reply_text(payreq)\n",
    "    \n",
    "    payment_id = charge['data']['id']\n",
    "    \n",
    "    context.user_data['payment_id'] = payment_id"
   ]
  },
  {
   "cell_type": "code",
   "execution_count": 4,
   "metadata": {},
   "outputs": [],
   "source": [
    "updater = Updater(botToken,use_context=True)\n",
    "dp = updater.dispatcher\n",
    "    \n",
    "dp.add_handler(CommandHandler('test',test))\n",
    "dp.add_handler(CommandHandler('request_waifu',request_waifu))\n",
    "dp.add_handler(CommandHandler('get_waifu',get_waifu)) "
   ]
  },
  {
   "cell_type": "code",
   "execution_count": null,
   "metadata": {},
   "outputs": [],
   "source": [
    "updater.start_polling()\n",
    "updater.idle()"
   ]
  }
 ],
 "metadata": {
  "kernelspec": {
   "display_name": "lightingNetworkHackathon",
   "language": "python",
   "name": "lightingnetworkhackathon"
  },
  "language_info": {
   "codemirror_mode": {
    "name": "ipython",
    "version": 3
   },
   "file_extension": ".py",
   "mimetype": "text/x-python",
   "name": "python",
   "nbconvert_exporter": "python",
   "pygments_lexer": "ipython3",
   "version": "3.6.8"
  }
 },
 "nbformat": 4,
 "nbformat_minor": 2
}
